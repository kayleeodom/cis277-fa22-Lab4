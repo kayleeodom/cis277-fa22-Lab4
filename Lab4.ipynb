{
 "cells": [
  {
   "cell_type": "markdown",
   "metadata": {},
   "source": [
    "# Lab 4 - Combining Dataframes"
   ]
  },
  {
   "cell_type": "markdown",
   "metadata": {},
   "source": [
    "## NFL Offense Data"
   ]
  },
  {
   "cell_type": "markdown",
   "metadata": {},
   "source": [
<<<<<<< HEAD
    "1. Import the NFL week 3,4, and 5 data and add a week column to dataset and set the value 3,4, or 5 for all rows from that week."
=======
    "1. Import the NFL week 3, 4, and 5 data and add a week column to dataset and set the value to 3, 4, or 5 for all rows from that week."
>>>>>>> b9feba861d276205941e3d2e234bec5f0b442da5
   ]
  },
  {
   "cell_type": "code",
   "execution_count": null,
   "metadata": {},
   "outputs": [],
   "source": []
  },
  {
   "cell_type": "markdown",
   "metadata": {},
   "source": [
    "2. Combine the weekly dataframes by adding the dataframes together row-wise."
   ]
  },
  {
   "cell_type": "code",
   "execution_count": null,
   "metadata": {},
   "outputs": [],
   "source": []
  },
  {
   "cell_type": "markdown",
   "metadata": {},
   "source": [
<<<<<<< HEAD
    "3. Make up 1 interesting question about this dataframe. Answer it."
=======
    "3. Make up 1 interesting question about this dataset. Answer it."
>>>>>>> b9feba861d276205941e3d2e234bec5f0b442da5
   ]
  },
  {
   "cell_type": "code",
   "execution_count": null,
   "metadata": {},
   "outputs": [],
   "source": []
  },
  {
   "cell_type": "markdown",
   "metadata": {},
   "source": [
    "## World Population Data"
   ]
  },
  {
   "cell_type": "markdown",
   "metadata": {},
   "source": [
<<<<<<< HEAD
    " Merge on the name column"
=======
    "4. Join the height and weight data to the iq data. \n",
    "5. Join population density to quality of life data.\n",
    "6. Join life expectancy to quality of life data.\n",
    "7. Join iq, life expectancy, quality of life and population density into 1 dataframe."
>>>>>>> b9feba861d276205941e3d2e234bec5f0b442da5
   ]
  },
  {
   "cell_type": "markdown",
   "metadata": {},
   "source": [
<<<<<<< HEAD
    "4. Join the height and weight data to the iq data."
   ]
  },
  {
   "cell_type": "code",
   "execution_count": null,
   "metadata": {},
   "outputs": [],
   "source": []
  },
  {
   "cell_type": "markdown",
   "metadata": {},
   "source": [
    "5. Join population density to quality of life data."
=======
    "8. Make up 1 interesting question about one of these datasets and answer it."
>>>>>>> b9feba861d276205941e3d2e234bec5f0b442da5
   ]
  },
  {
   "cell_type": "code",
   "execution_count": null,
   "metadata": {},
   "outputs": [],
   "source": []
  },
  {
   "cell_type": "markdown",
   "metadata": {},
   "source": [
<<<<<<< HEAD
    "6. Join life expectancy to quality of life data."
=======
    "9. Make up 1 interesting question about one of these datasets and answer it."
>>>>>>> b9feba861d276205941e3d2e234bec5f0b442da5
   ]
  },
  {
   "cell_type": "code",
   "execution_count": null,
   "metadata": {},
   "outputs": [],
   "source": []
  },
  {
   "cell_type": "markdown",
   "metadata": {},
   "source": [
<<<<<<< HEAD
    "7. Join iq, life expectancy, quality of life, and population density into 1 dataframe."
   ]
  },
  {
   "cell_type": "code",
   "execution_count": null,
   "metadata": {},
   "outputs": [],
   "source": []
  },
  {
   "cell_type": "markdown",
   "metadata": {},
   "source": [
    "8. Make up 1 interesting question about of these datasets and answer it."
   ]
  },
  {
   "cell_type": "code",
   "execution_count": null,
   "metadata": {},
   "outputs": [],
   "source": []
  },
  {
   "cell_type": "markdown",
   "metadata": {},
   "source": [
    "9. Make up 1 interesting question about of these datasets and answer it."
   ]
  },
  {
   "cell_type": "code",
   "execution_count": null,
   "metadata": {},
   "outputs": [],
   "source": []
  },
  {
   "cell_type": "markdown",
   "metadata": {},
   "source": [
    "10. Make up 1 interesting question about of these datasets and answer it."
=======
    "10. Make up 1 interesting question about one of these datasets and answer it."
>>>>>>> b9feba861d276205941e3d2e234bec5f0b442da5
   ]
  },
  {
   "cell_type": "code",
   "execution_count": null,
   "metadata": {},
   "outputs": [],
   "source": []
  }
 ],
 "metadata": {
  "kernelspec": {
<<<<<<< HEAD
   "display_name": "Python 3.10.7 64-bit (microsoft store)",
=======
   "display_name": "Python 3.8.3 64-bit",
>>>>>>> b9feba861d276205941e3d2e234bec5f0b442da5
   "language": "python",
   "name": "python3"
  },
  "language_info": {
   "name": "python",
<<<<<<< HEAD
   "version": "3.10.7"
=======
   "version": "3.8.3"
>>>>>>> b9feba861d276205941e3d2e234bec5f0b442da5
  },
  "orig_nbformat": 4,
  "vscode": {
   "interpreter": {
<<<<<<< HEAD
    "hash": "f24892f69badb88c7f5a9f455858252250346f1fc756aec185a988cd2cdf1b6f"
=======
    "hash": "aee8b7b246df8f9039afb4144a1f6fd8d2ca17a180786b69acc140d282b71a49"
>>>>>>> b9feba861d276205941e3d2e234bec5f0b442da5
   }
  }
 },
 "nbformat": 4,
 "nbformat_minor": 2
}
